{
 "cells": [
  {
   "cell_type": "code",
   "execution_count": 1,
   "metadata": {},
   "outputs": [],
   "source": [
    "import numpy as np\n",
    "import pandas as pd\n",
    "import random\n",
    "from sklearn.linear_model import RidgeClassifier\n",
    "from sklearn.metrics import zero_one_loss, make_scorer\n"
   ]
  },
  {
   "cell_type": "code",
   "execution_count": 2,
   "metadata": {},
   "outputs": [],
   "source": [
    "DATA = 'hw2_lssvm_all.dat'\n",
    "\n",
    "data = pd.read_csv(DATA, sep=' ', header=None)\n",
    "data = data.drop(0, axis=1)\n",
    "data.head()\n",
    "\n",
    "LABEL = 11\n"
   ]
  },
  {
   "cell_type": "code",
   "execution_count": 3,
   "metadata": {},
   "outputs": [],
   "source": [
    "trainingData = data[:400]\n",
    "trainingX = trainingData[trainingData.columns[0:-1]]\n",
    "trainingY = trainingData[trainingData.columns[-1]]"
   ]
  },
  {
   "cell_type": "code",
   "execution_count": 4,
   "metadata": {},
   "outputs": [
    {
     "data": {
      "text/html": [
       "<div>\n",
       "<style scoped>\n",
       "    .dataframe tbody tr th:only-of-type {\n",
       "        vertical-align: middle;\n",
       "    }\n",
       "\n",
       "    .dataframe tbody tr th {\n",
       "        vertical-align: top;\n",
       "    }\n",
       "\n",
       "    .dataframe thead th {\n",
       "        text-align: right;\n",
       "    }\n",
       "</style>\n",
       "<table border=\"1\" class=\"dataframe\">\n",
       "  <thead>\n",
       "    <tr style=\"text-align: right;\">\n",
       "      <th></th>\n",
       "      <th>1</th>\n",
       "      <th>2</th>\n",
       "      <th>3</th>\n",
       "      <th>4</th>\n",
       "      <th>5</th>\n",
       "      <th>6</th>\n",
       "      <th>7</th>\n",
       "      <th>8</th>\n",
       "      <th>9</th>\n",
       "      <th>10</th>\n",
       "    </tr>\n",
       "  </thead>\n",
       "  <tbody>\n",
       "    <tr>\n",
       "      <th>0</th>\n",
       "      <td>4.115</td>\n",
       "      <td>5.020</td>\n",
       "      <td>-7.879</td>\n",
       "      <td>-11.780</td>\n",
       "      <td>2.004</td>\n",
       "      <td>-0.353</td>\n",
       "      <td>-0.735</td>\n",
       "      <td>3.561</td>\n",
       "      <td>2.441</td>\n",
       "      <td>-9.822</td>\n",
       "    </tr>\n",
       "    <tr>\n",
       "      <th>1</th>\n",
       "      <td>-3.557</td>\n",
       "      <td>0.997</td>\n",
       "      <td>2.932</td>\n",
       "      <td>7.672</td>\n",
       "      <td>5.430</td>\n",
       "      <td>-0.137</td>\n",
       "      <td>1.635</td>\n",
       "      <td>-5.190</td>\n",
       "      <td>-0.394</td>\n",
       "      <td>-7.667</td>\n",
       "    </tr>\n",
       "    <tr>\n",
       "      <th>2</th>\n",
       "      <td>6.417</td>\n",
       "      <td>5.878</td>\n",
       "      <td>5.066</td>\n",
       "      <td>-7.209</td>\n",
       "      <td>-6.953</td>\n",
       "      <td>7.639</td>\n",
       "      <td>-2.937</td>\n",
       "      <td>-1.023</td>\n",
       "      <td>3.963</td>\n",
       "      <td>-11.069</td>\n",
       "    </tr>\n",
       "    <tr>\n",
       "      <th>3</th>\n",
       "      <td>-2.247</td>\n",
       "      <td>6.532</td>\n",
       "      <td>6.437</td>\n",
       "      <td>2.293</td>\n",
       "      <td>6.302</td>\n",
       "      <td>2.187</td>\n",
       "      <td>3.429</td>\n",
       "      <td>-3.453</td>\n",
       "      <td>9.172</td>\n",
       "      <td>-4.548</td>\n",
       "    </tr>\n",
       "    <tr>\n",
       "      <th>4</th>\n",
       "      <td>3.708</td>\n",
       "      <td>5.834</td>\n",
       "      <td>3.676</td>\n",
       "      <td>-4.403</td>\n",
       "      <td>-5.296</td>\n",
       "      <td>9.080</td>\n",
       "      <td>-3.110</td>\n",
       "      <td>-3.294</td>\n",
       "      <td>3.189</td>\n",
       "      <td>-8.510</td>\n",
       "    </tr>\n",
       "  </tbody>\n",
       "</table>\n",
       "</div>"
      ],
      "text/plain": [
       "      1      2      3       4      5      6      7      8      9       10\n",
       "0  4.115  5.020 -7.879 -11.780  2.004 -0.353 -0.735  3.561  2.441  -9.822\n",
       "1 -3.557  0.997  2.932   7.672  5.430 -0.137  1.635 -5.190 -0.394  -7.667\n",
       "2  6.417  5.878  5.066  -7.209 -6.953  7.639 -2.937 -1.023  3.963 -11.069\n",
       "3 -2.247  6.532  6.437   2.293  6.302  2.187  3.429 -3.453  9.172  -4.548\n",
       "4  3.708  5.834  3.676  -4.403 -5.296  9.080 -3.110 -3.294  3.189  -8.510"
      ]
     },
     "execution_count": 7,
     "metadata": {},
     "output_type": "execute_result"
    }
   ],
   "source": [
    "trainingX.head()\n"
   ]
  },
  {
   "cell_type": "code",
   "execution_count": 5,
   "metadata": {},
   "outputs": [
    {
     "data": {
      "text/plain": [
       "0    1\n",
       "1    1\n",
       "2    1\n",
       "3    1\n",
       "4    1\n",
       "Name: 11, dtype: int64"
      ]
     },
     "execution_count": 8,
     "metadata": {},
     "output_type": "execute_result"
    }
   ],
   "source": [
    "trainingY.head()\n"
   ]
  },
  {
   "cell_type": "code",
   "execution_count": 6,
   "metadata": {},
   "outputs": [],
   "source": [
    "testingData = data[400:]\n",
    "testingX = testingData[testingData.columns[0:-1]]\n",
    "testingY = testingData[testingData.columns[-1]]\n",
    "\n"
   ]
  },
  {
   "cell_type": "code",
   "execution_count": 7,
   "metadata": {},
   "outputs": [],
   "source": [
    "def CalculatedSampleError(ridge : RidgeClassifier, xs : pd.DataFrame, ys : pd.DataFrame) -> float:\n",
    "    predictionResults = ridge.predict(xs) * np.array(ys)\n",
    "    incorrect = np.sum(np.array(predictionResults) < 0)\n",
    "    return incorrect / len(predictionResults)\n",
    "\n",
    "def RidgedClassification():\n",
    "    # the alpha used in sklearn corresponds to the lambda used in our course\n",
    "    ridge = RidgeClassifier(alpha = lam)\n",
    "    ridge.fit(trainingX, trainingY)\n",
    "\n",
    "    Ein = CalculatedSampleError(ridge,trainingX, trainingY)\n",
    "    Eout = CalculatedSampleError(ridge, testingX, testingY)\n",
    "    return Ein, Eout\n",
    "    \n",
    "def CalculatedSampleErrorAggregation(ridges : list, xs : pd.DataFrame, ys : pd.DataFrame) -> float:\n",
    "    predictions = []\n",
    "    for ridge in ridges:\n",
    "        predictions.append(ridge.predict(xs))\n",
    "    \n",
    "    predictionResults = np.sum(predictions, axis=0) * np.array(ys)\n",
    "    incorrect = np.sum(np.array(predictionResults) < 0)\n",
    "    return incorrect / len(predictionResults)\n",
    "\n",
    "def BaggedRidgeClassification():\n",
    "    ridges = []\n",
    "    for _ in range(250):\n",
    "    # the alpha used in sklearn corresponds to the lambda used in our course\n",
    "        baggedIndex = random.choices(range(400), k=400)\n",
    "        baggedX = trainingX.iloc[baggedIndex]\n",
    "        baggedY = trainingY.iloc[baggedIndex]\n",
    "        ridge = RidgeClassifier(alpha = lam)\n",
    "        ridge.fit(baggedX, baggedY)\n",
    "        ridges.append(ridge)\n",
    "\n",
    "    Ein = CalculatedSampleErrorAggregation(ridges,trainingX, trainingY)\n",
    "    Eout = CalculatedSampleErrorAggregation(ridges, testingX, testingY)\n",
    "    return Ein, Eout\n"
   ]
  },
  {
   "cell_type": "markdown",
   "metadata": {},
   "source": [
    "# Testing Ridge Regression"
   ]
  },
  {
   "cell_type": "code",
   "execution_count": 8,
   "metadata": {},
   "outputs": [
    {
     "name": "stdout",
     "output_type": "stream",
     "text": [
      "RidgeClassifier regression with lambda: 0.05\n",
      "\t\t Ein = 0.3175\tEout = 0.36\n",
      "RidgeClassifier regression with lambda: 0.5\n",
      "\t\t Ein = 0.3175\tEout = 0.36\n",
      "RidgeClassifier regression with lambda: 5\n",
      "\t\t Ein = 0.3175\tEout = 0.36\n",
      "RidgeClassifier regression with lambda: 50\n",
      "\t\t Ein = 0.32\tEout = 0.37\n",
      "RidgeClassifier regression with lambda: 500\n",
      "\t\t Ein = 0.3225\tEout = 0.37\n"
     ]
    }
   ],
   "source": [
    "lambdas = [0.05, 0.5, 5, 50, 500]\n",
    "for lam in lambdas:\n",
    "    # the alpha used in sklearn corresponds to the lambda used in our course\n",
    "    Ein, Eout = RidgedClassification()\n",
    "    print(f\"RidgeClassifier regression with lambda: {lam}\\n\\t\\t Ein = {Ein}\\tEout = {Eout}\")\n"
   ]
  },
  {
   "cell_type": "markdown",
   "metadata": {},
   "source": [
    "# Testing Ridge Regression with Bagged Data (250 iters.)"
   ]
  },
  {
   "cell_type": "code",
   "execution_count": 9,
   "metadata": {},
   "outputs": [
    {
     "name": "stdout",
     "output_type": "stream",
     "text": [
      "BaggedRidgeClassifier regression with lambda: 0.05\n",
      "\t\t Ein = 0.315\tEout = 0.37\n",
      "BaggedRidgeClassifier regression with lambda: 0.5\n",
      "\t\t Ein = 0.32\tEout = 0.37\n",
      "BaggedRidgeClassifier regression with lambda: 5\n",
      "\t\t Ein = 0.3175\tEout = 0.36\n",
      "BaggedRidgeClassifier regression with lambda: 50\n",
      "\t\t Ein = 0.32\tEout = 0.37\n",
      "BaggedRidgeClassifier regression with lambda: 500\n",
      "\t\t Ein = 0.3225\tEout = 0.37\n"
     ]
    }
   ],
   "source": [
    "for lam in lambdas:\n",
    "    Ein, Eout = BaggedRidgeClassification()\n",
    "    print(f\"BaggedRidgeClassifier regression with lambda: {lam}\\n\\t\\t Ein = {Ein}\\tEout = {Eout}\")\n",
    "\n",
    "\n"
   ]
  },
  {
   "cell_type": "code",
   "execution_count": 10,
   "metadata": {},
   "outputs": [],
   "source": []
  }
 ],
 "metadata": {
  "file_extension": ".py",
  "kernelspec": {
   "display_name": "Python 3",
   "language": "python",
   "name": "python3"
  },
  "language_info": {
   "codemirror_mode": {
    "name": "ipython",
    "version": 3
   },
   "file_extension": ".py",
   "mimetype": "text/x-python",
   "name": "python",
   "nbconvert_exporter": "python",
   "pygments_lexer": "ipython3",
   "version": "3.7.2"
  },
  "mimetype": "text/x-python",
  "name": "python",
  "npconvert_exporter": "python",
  "pygments_lexer": "ipython3",
  "version": 3
 },
 "nbformat": 4,
 "nbformat_minor": 2
}
